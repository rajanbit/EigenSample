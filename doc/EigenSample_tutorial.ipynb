{
 "cells": [
  {
   "cell_type": "markdown",
   "id": "c9e9de4c-9bc4-4b78-b0b1-735f3d9e8649",
   "metadata": {},
   "source": [
    "# EigenSample: Python package for generating synthetic samples in eigenspace to minimize distortion. \n",
    "\n",
    "Python implementation of the EigenSample algorithm by [Jayadeva et al., 2018](https://doi.org/10.1016/j.asoc.2017.08.017), designed to generate synthetic samples in the eigenspace while minimizing distortion. Please note that this implementation is intended solely for learning purposes and does not claim any original work or contributions. Feel free to explore, learn from, and contribute to this repository!"
   ]
  },
  {
   "cell_type": "markdown",
   "id": "b5da79d9-49f8-43e8-a9b5-522134d7965c",
   "metadata": {},
   "source": [
    "# 1. Generating Synthetic Samples for Classification Problem"
   ]
  },
  {
   "cell_type": "code",
   "execution_count": 1,
   "id": "1e63432e-1db0-4262-b35b-cad171225a6c",
   "metadata": {},
   "outputs": [],
   "source": [
    "# Importing module\n",
    "from sampler import EigenSample"
   ]
  },
  {
   "cell_type": "code",
   "execution_count": 2,
   "id": "9b4ee49f-c3ed-4236-bdd7-02f0d7c021cd",
   "metadata": {},
   "outputs": [
    {
     "name": "stdout",
     "output_type": "stream",
     "text": [
      "Help on class EigenSample in module sampler.eigenSample:\n",
      "\n",
      "class EigenSample(builtins.object)\n",
      " |  EigenSample(data, target, model)\n",
      " |  \n",
      " |  EigenSample: Python package for generating synthetic samples in eigenspace to minimize distortion\n",
      " |  \n",
      " |  Attributes:\n",
      " |          data (ndarray): Sample data\n",
      " |          target (ndarray): Targer/labels for samples\n",
      " |          model (scikit-learn model): Classification or regression model from scikit-learn\n",
      " |  \n",
      " |  Methods defined here:\n",
      " |  \n",
      " |  __init__(self, data, target, model)\n",
      " |      Initializes an EigenSample object\n",
      " |      \n",
      " |      Parameters:\n",
      " |              data (ndarray): Sample data\n",
      " |              target (ndarray): Targer/labels for samples\n",
      " |              model (scikit-learn model): Classification or regression model from scikit-learn\n",
      " |  \n",
      " |  add_samples(self, mid_point=0.5)\n",
      " |      Generate synthetic samples in eigenspace\n",
      " |      \n",
      " |      Parameters:\n",
      " |              mid_point (int): any value between 0 and 1\n",
      " |  \n",
      " |  ----------------------------------------------------------------------\n",
      " |  Data descriptors defined here:\n",
      " |  \n",
      " |  __dict__\n",
      " |      dictionary for instance variables (if defined)\n",
      " |  \n",
      " |  __weakref__\n",
      " |      list of weak references to the object (if defined)\n",
      "\n"
     ]
    }
   ],
   "source": [
    "# Documentation\n",
    "help(EigenSample)"
   ]
  },
  {
   "cell_type": "code",
   "execution_count": 3,
   "id": "86aa911a-2996-4c68-b68d-c58d8e966228",
   "metadata": {},
   "outputs": [],
   "source": [
    "# Importing data\n",
    "from sklearn.datasets import load_breast_cancer"
   ]
  },
  {
   "cell_type": "code",
   "execution_count": 4,
   "id": "eb385aec-212f-4cf2-9351-ab449ff6227f",
   "metadata": {},
   "outputs": [],
   "source": [
    "# Feature matrix\n",
    "data = load_breast_cancer().data\n",
    "\n",
    "# Target labels\n",
    "target = load_breast_cancer().target"
   ]
  },
  {
   "cell_type": "code",
   "execution_count": 5,
   "id": "9f47b5fa-0afc-4e1d-a9dd-ba7e52b72381",
   "metadata": {},
   "outputs": [],
   "source": [
    "# Importing classification model\n",
    "from sklearn.linear_model import LogisticRegression\n",
    "\n",
    "# Model\n",
    "model = LogisticRegression()\n",
    "\n",
    "# Generating synthetic samples\n",
    "sampler = EigenSample(data, target, model)\n",
    "new_samples = sampler.add_samples()"
   ]
  },
  {
   "cell_type": "code",
   "execution_count": 6,
   "id": "7dd720fd-6f7b-4ef7-9884-2bc1be08c44a",
   "metadata": {},
   "outputs": [],
   "source": [
    "# New feature matrix\n",
    "new_data = new_samples[\"new_data\"]\n",
    "\n",
    "# New target labels\n",
    "new_target = new_samples[\"new_target\"]"
   ]
  },
  {
   "cell_type": "code",
   "execution_count": 7,
   "id": "5b0f34a7-2a46-499b-bd00-387f533a5065",
   "metadata": {},
   "outputs": [
    {
     "name": "stdout",
     "output_type": "stream",
     "text": [
      "New Data:\n",
      "[[1.96839061e+01 2.16893609e+01 1.30289275e+02 1.21951246e+03\n",
      "  1.00989066e-01 1.48614895e-01 1.78317200e-01 1.01118761e-01\n",
      "  1.88894494e-01 5.99336122e-02 7.47929941e-01 1.14573463e+00\n",
      "  5.30922095e+00 1.01217978e+02 6.16082553e-03 3.15077430e-02\n",
      "  4.15850592e-02 1.53785479e-02 1.91865092e-02 3.70154795e-03\n",
      "  2.40856028e+01 2.90282641e+01 1.61292775e+02 1.81144662e+03\n",
      "  1.39382385e-01 3.64907132e-01 4.56739881e-01 1.95084766e-01\n",
      "  3.09629489e-01 8.57086034e-02]\n",
      " [1.99610546e+01 2.18090519e+01 1.32200582e+02 1.24767430e+03\n",
      "  1.01219936e-01 1.50823154e-01 1.82782102e-01 1.03722333e-01\n",
      "  1.89280176e-01 5.97907640e-02 7.65025749e-01 1.14218742e+00\n",
      "  5.43107905e+00 1.04254548e+02 6.11692593e-03 3.18084829e-02\n",
      "  4.20684364e-02 1.55572286e-02 1.91188862e-02 3.69689162e-03\n",
      "  2.44754637e+01 2.91954046e+01 1.63987718e+02 1.85787550e+03\n",
      "  1.39732214e-01 3.70425651e-01 4.65944791e-01 1.99098812e-01\n",
      "  3.10604784e-01 8.57965263e-02]\n",
      " [1.92659484e+01 2.15088592e+01 1.27406900e+02 1.17704258e+03\n",
      "  1.00640897e-01 1.45284697e-01 1.71583838e-01 9.71924074e-02\n",
      "  1.88312861e-01 6.01490366e-02 7.22148357e-01 1.15108405e+00\n",
      "  5.12545106e+00 9.66386347e+01 6.22702896e-03 3.10542079e-02\n",
      "  4.08560952e-02 1.51090859e-02 1.92884890e-02 3.70857000e-03\n",
      "  2.34976673e+01 2.87762053e+01 1.57228625e+02 1.74142887e+03\n",
      "  1.38854821e-01 3.56584848e-01 4.42858282e-01 1.89031326e-01\n",
      "  3.08158681e-01 8.55760100e-02]\n",
      " [1.23122927e+01 1.85058123e+01 7.94522026e+01 4.70461898e+02\n",
      "  9.48483463e-02 8.98794613e-02 5.95594111e-02 3.18687899e-02\n",
      "  1.78636095e-01 6.37330991e-02 2.93214451e-01 1.24008350e+00\n",
      "  2.06803080e+00 2.04510897e+01 7.32847008e-03 2.35086435e-02\n",
      "  2.87281596e-02 1.06259871e-02 2.09851506e-02 3.82539742e-03\n",
      "  1.37160556e+01 2.45826473e+01 8.96124742e+01 5.76528132e+02\n",
      "  1.30077626e-01 2.18125180e-01 2.11907062e-01 8.83189068e-02\n",
      "  2.83688527e-01 8.33700250e-02]\n",
      " [1.90994945e+01 2.14369734e+01 1.26258980e+02 1.16012874e+03\n",
      "  1.00502238e-01 1.43958428e-01 1.68902242e-01 9.56287168e-02\n",
      "  1.88081222e-01 6.02348304e-02 7.11880708e-01 1.15321448e+00\n",
      "  5.05226375e+00 9.48148877e+01 6.25339482e-03 3.08735852e-02\n",
      "  4.05657815e-02 1.50017713e-02 1.93291030e-02 3.71136657e-03\n",
      "  2.32635190e+01 2.86758215e+01 1.55610057e+02 1.71354394e+03\n",
      "  1.38644716e-01 3.53270456e-01 4.37329864e-01 1.86620513e-01\n",
      "  3.07572925e-01 8.55232041e-02]]\n",
      "New Labels:\n",
      "[0 0 0 1 0]\n"
     ]
    }
   ],
   "source": [
    "# Print first 5 rows of feature matrix and target labels\n",
    "print(f'New Data:\\n{new_data[:5]}')\n",
    "print(f'New Labels:\\n{new_target[:5]}')"
   ]
  },
  {
   "cell_type": "markdown",
   "id": "ffd1a476-e53f-4252-837b-190ce3864876",
   "metadata": {},
   "source": [
    "# 2. Generating Synthetic Samples for Regression Problem"
   ]
  },
  {
   "cell_type": "code",
   "execution_count": 8,
   "id": "05e2be32-8813-4e90-9f1c-27dab51d2539",
   "metadata": {},
   "outputs": [],
   "source": [
    "# Importing module\n",
    "from sampler import EigenSample"
   ]
  },
  {
   "cell_type": "code",
   "execution_count": 9,
   "id": "342bb544-39b4-4695-95a7-d9b75ccbc7d0",
   "metadata": {},
   "outputs": [],
   "source": [
    "# Importing data\n",
    "from sklearn.datasets import load_diabetes"
   ]
  },
  {
   "cell_type": "code",
   "execution_count": 10,
   "id": "119f967e-fe10-44a2-a59f-5be016b177b5",
   "metadata": {},
   "outputs": [],
   "source": [
    "# Feature matrix\n",
    "data = load_diabetes().data\n",
    "\n",
    "# Target labels\n",
    "target = load_diabetes().target"
   ]
  },
  {
   "cell_type": "code",
   "execution_count": 11,
   "id": "fc061a3c-eeca-445c-8c34-7db89951feb7",
   "metadata": {},
   "outputs": [],
   "source": [
    "# Importing regression model\n",
    "from sklearn.linear_model import LinearRegression\n",
    "\n",
    "# Model\n",
    "model = LinearRegression()\n",
    "\n",
    "# Generating synthetic samples\n",
    "sampler = EigenSample(data, target, model)\n",
    "new_samples = sampler.add_samples()"
   ]
  },
  {
   "cell_type": "code",
   "execution_count": 12,
   "id": "f28aebb8-fd34-44ae-a244-e09480de2243",
   "metadata": {},
   "outputs": [],
   "source": [
    "# New feature matrix\n",
    "new_data = new_samples[\"new_data\"]\n",
    "\n",
    "# New target labels\n",
    "new_target = new_samples[\"new_target\"]"
   ]
  },
  {
   "cell_type": "code",
   "execution_count": 13,
   "id": "275251b9-7a35-4b22-9797-d2068b9d2a1a",
   "metadata": {},
   "outputs": [
    {
     "name": "stdout",
     "output_type": "stream",
     "text": [
      "New Data:\n",
      "[[ 0.01156088  0.03878495  0.02596051  0.03040261 -0.04557526 -0.03849367\n",
      "  -0.04684823  0.01008673  0.01377309  0.02202532]\n",
      " [-0.02285205 -0.04976591 -0.04833536 -0.04191511 -0.0059919  -0.01555255\n",
      "   0.07083137 -0.06044246 -0.0496944  -0.04564556]\n",
      " [ 0.01655455  0.02853757  0.02178682  0.03202747 -0.04223929 -0.04008021\n",
      "  -0.0292977  -0.00247168  0.00909352  0.02032338]\n",
      " [-0.04588207  0.00297977 -0.019083   -0.05081083  0.01467805  0.03139807\n",
      "  -0.02662638  0.03285329 -0.00754323 -0.02812064]\n",
      " [-0.00908358 -0.02152212 -0.01860066 -0.01827531  0.00860382  0.00474554\n",
      "   0.02852888 -0.01766514 -0.01614398 -0.0171414 ]]\n",
      "New Labels:\n",
      "[192.7154571   78.93939023 186.00030912 124.37473532 123.70172698]\n"
     ]
    }
   ],
   "source": [
    "# Print first 5 rows of feature matrix and target labels\n",
    "print(f'New Data:\\n{new_data[:5]}')\n",
    "print(f'New Labels:\\n{new_target[:5]}')"
   ]
  }
 ],
 "metadata": {
  "kernelspec": {
   "display_name": "Python 3 (ipykernel)",
   "language": "python",
   "name": "python3"
  },
  "language_info": {
   "codemirror_mode": {
    "name": "ipython",
    "version": 3
   },
   "file_extension": ".py",
   "mimetype": "text/x-python",
   "name": "python",
   "nbconvert_exporter": "python",
   "pygments_lexer": "ipython3",
   "version": "3.10.10"
  }
 },
 "nbformat": 4,
 "nbformat_minor": 5
}
